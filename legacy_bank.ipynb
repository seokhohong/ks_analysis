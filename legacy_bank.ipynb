{
 "cells": [
  {
   "cell_type": "code",
   "execution_count": 23,
   "metadata": {},
   "outputs": [],
   "source": [
    "ROLES = [\n",
    "    \"Kerrigan\",\n",
    "    \"Scientist\",\n",
    "    \"Dark Templar\",\n",
    "    \"Ascendant\",\n",
    "    \"Spirit\",\n",
    "    \"Ares\",\n",
    "    \"Prophet\",\n",
    "    \"Stukov\",\n",
    "    \"Artanis\",\n",
    "    \"Zagara\",\n",
    "    \"Engineer\",\n",
    "    \"Team Nova\",\n",
    "    \"Nomad\",\n",
    "    \"Dehaka\",\n",
    "    \"Helios\",\n",
    "    \"Random\",\n",
    "    \"Thakras\",\n",
    "    \"Swann\",\n",
    "    \"Warden\",\n",
    "    \"Selendis\",\n",
    "    \"Niadra\",\n",
    "    \"Mira\",\n",
    "    \"Scion\"\n",
    "]"
   ]
  },
  {
   "cell_type": "code",
   "execution_count": 28,
   "metadata": {},
   "outputs": [
    {
     "name": "stdout",
     "output_type": "stream",
     "text": [
      "[19, 14, 1, 3, 13, 6, 19, 1, 19]\n"
     ]
    },
    {
     "data": {
      "text/plain": [
       "'[Selendis, 1940][Helios, 2580][Scientist, 1760][Ascendant, 1520][Dehaka, 2280][Prophet, 1040][Selendis, 1060][Scientist, 2160][Selendis, 1500]|Survivor'"
      ]
     },
     "execution_count": 28,
     "metadata": {},
     "output_type": "execute_result"
    }
   ],
   "source": [
    "class Game:\n",
    "    def __init__(self, time, roles, mmrs, win):\n",
    "        self._time = time\n",
    "        self._roles = roles\n",
    "        self._mmrs = [mmr * 20 + 600 for mmr in mmrs]\n",
    "        self._win = 'Survivor' if win == 0 else 'Kerrigan'\n",
    "    \n",
    "    def time(self):\n",
    "        return self._time\n",
    "        \n",
    "    def roles(self):\n",
    "        return self._roles\n",
    "    \n",
    "    def mmrs(self):\n",
    "        return self._mmrs\n",
    "    \n",
    "    def win(self):\n",
    "        return self._win\n",
    "    \n",
    "    def _player_string(self, i):\n",
    "        return '[' + ROLES[self.roles()[i]] + ', ' + str(self.mmrs()[i]) + ']'\n",
    "    \n",
    "    def __str__(self):\n",
    "        combined = ''\n",
    "        for player in range(len(self.roles())):\n",
    "            combined += self._player_string(player)\n",
    "        combined += '|' + self.win()\n",
    "        return combined\n",
    "    \n",
    "def parse_legacy(line):\n",
    "    time = int(line[:4])\n",
    "    roles = []\n",
    "    mmrs = []\n",
    "    line = line[4:]\n",
    "    while len(line) > 2:\n",
    "        roles.append(int(line[:2]))\n",
    "        mmrs.append(int(line[2:4]))\n",
    "        line = line[4:]\n",
    "    win = int(line)\n",
    "    print(roles)\n",
    "    return Game(time, roles, mmrs, win)\n",
    "    \n",
    "    \n",
    "with open('balancebank132020.txt', 'r') as f:\n",
    "    lines = f.readlines()\n",
    "\n",
    "\n",
    "str(parse_legacy(lines[0][1:].strip()))"
   ]
  },
  {
   "cell_type": "code",
   "execution_count": null,
   "metadata": {},
   "outputs": [],
   "source": []
  }
 ],
 "metadata": {
  "kernelspec": {
   "display_name": "Python 3",
   "language": "python",
   "name": "python3"
  },
  "language_info": {
   "codemirror_mode": {
    "name": "ipython",
    "version": 3
   },
   "file_extension": ".py",
   "mimetype": "text/x-python",
   "name": "python",
   "nbconvert_exporter": "python",
   "pygments_lexer": "ipython3",
   "version": "3.7.4"
  }
 },
 "nbformat": 4,
 "nbformat_minor": 2
}
